{
  "nbformat": 4,
  "nbformat_minor": 0,
  "metadata": {
    "colab": {
      "name": "Spark_Colab_Pyspark_1.ipynb",
      "provenance": [],
      "collapsed_sections": [],
      "toc_visible": true,
      "authorship_tag": "ABX9TyNMOZbCj+eY5r8TYqKYajVn",
      "include_colab_link": true
    },
    "kernelspec": {
      "name": "python3",
      "display_name": "Python 3"
    },
    "language_info": {
      "name": "python"
    }
  },
  "cells": [
    {
      "cell_type": "markdown",
      "metadata": {
        "id": "view-in-github",
        "colab_type": "text"
      },
      "source": [
        "<a href=\"https://colab.research.google.com/github/rosafilgueira/2013-09-16-ISI/blob/etherpad-link/Colab/Spark_Colab_Pyspark_1.ipynb\" target=\"_parent\"><img src=\"https://colab.research.google.com/assets/colab-badge.svg\" alt=\"Open In Colab\"/></a>"
      ]
    },
    {
      "cell_type": "markdown",
      "source": [
        "# Connecting Google Drive to Colab"
      ],
      "metadata": {
        "id": "BXM2E63BHJms"
      }
    },
    {
      "cell_type": "code",
      "execution_count": null,
      "metadata": {
        "id": "eSbb-qfwW0G3",
        "colab": {
          "base_uri": "https://localhost:8080/"
        },
        "outputId": "0bb689f3-3e35-4aba-eab5-52e8e86ff69d"
      },
      "outputs": [
        {
          "output_type": "stream",
          "name": "stdout",
          "text": [
            "Mounted at /content/drive\n"
          ]
        }
      ],
      "source": [
        "from google.colab import drive\n",
        "drive.mount('/content/drive')"
      ]
    },
    {
      "cell_type": "markdown",
      "source": [
        "# Installing Apache Spark"
      ],
      "metadata": {
        "id": "cCi91jDVFybZ"
      }
    },
    {
      "cell_type": "code",
      "source": [
        "!apt-get install openjdk-11-jdk-headless -qq > /dev/null\n",
        "!wget -q https://dlcdn.apache.org/spark/spark-3.2.1/spark-3.2.1-bin-hadoop3.2.tgz\n",
        "!tar xf spark-3.2.1-bin-hadoop3.2.tgz\n",
        "!pip install -q findspark\n",
        "!pip install pyspark"
      ],
      "metadata": {
        "colab": {
          "base_uri": "https://localhost:8080/"
        },
        "id": "Xt2zOx2WfRo0",
        "outputId": "a17e5b93-534b-406a-8963-1a2ccbdd6711"
      },
      "execution_count": null,
      "outputs": [
        {
          "output_type": "stream",
          "name": "stdout",
          "text": [
            "Looking in indexes: https://pypi.org/simple, https://us-python.pkg.dev/colab-wheels/public/simple/\n",
            "Collecting pyspark\n",
            "  Downloading pyspark-3.3.0.tar.gz (281.3 MB)\n",
            "\u001b[K     |████████████████████████████████| 281.3 MB 43 kB/s \n",
            "\u001b[?25hCollecting py4j==0.10.9.5\n",
            "  Downloading py4j-0.10.9.5-py2.py3-none-any.whl (199 kB)\n",
            "\u001b[K     |████████████████████████████████| 199 kB 38.0 MB/s \n",
            "\u001b[?25hBuilding wheels for collected packages: pyspark\n",
            "  Building wheel for pyspark (setup.py) ... \u001b[?25l\u001b[?25hdone\n",
            "  Created wheel for pyspark: filename=pyspark-3.3.0-py2.py3-none-any.whl size=281764026 sha256=5f10269617aaf7a7b83c03eb5abc8d45f38786f2e9e00d0afdf5764da4e60a7f\n",
            "  Stored in directory: /root/.cache/pip/wheels/7a/8e/1b/f73a52650d2e5f337708d9f6a1750d451a7349a867f928b885\n",
            "Successfully built pyspark\n",
            "Installing collected packages: py4j, pyspark\n",
            "Successfully installed py4j-0.10.9.5 pyspark-3.3.0\n"
          ]
        }
      ]
    },
    {
      "cell_type": "code",
      "source": [
        "!ls"
      ],
      "metadata": {
        "colab": {
          "base_uri": "https://localhost:8080/"
        },
        "id": "dtpWkOP8ghmM",
        "outputId": "691e8910-9a17-405f-d6dd-5bc09c95fa63"
      },
      "execution_count": null,
      "outputs": [
        {
          "output_type": "stream",
          "name": "stdout",
          "text": [
            "sample_data  spark-3.2.1-bin-hadoop3.2\tspark-3.2.1-bin-hadoop3.2.tgz\n"
          ]
        }
      ]
    },
    {
      "cell_type": "code",
      "source": [
        "import os\n",
        "os.environ[\"JAVA_HOME\"] = \"/usr/lib/jvm/java-11-openjdk-amd64\"\n",
        "os.environ[\"SPARK_HOME\"] = \"/content/spark-3.2.1-bin-hadoop3.2\"\n",
        "\n",
        "import findspark\n",
        "findspark.init()\n",
        "findspark.find()"
      ],
      "metadata": {
        "colab": {
          "base_uri": "https://localhost:8080/",
          "height": 36
        },
        "id": "0MVlmq19gMcT",
        "outputId": "16c97046-f34e-4c5b-8e1d-84fd91254c45"
      },
      "execution_count": null,
      "outputs": [
        {
          "output_type": "execute_result",
          "data": {
            "text/plain": [
              "'/content/spark-3.2.1-bin-hadoop3.2'"
            ],
            "application/vnd.google.colaboratory.intrinsic+json": {
              "type": "string"
            }
          },
          "metadata": {},
          "execution_count": 2
        }
      ]
    },
    {
      "cell_type": "markdown",
      "source": [
        "# Creating an Apache Spark session"
      ],
      "metadata": {
        "id": "55fnH6fwFzgQ"
      }
    },
    {
      "cell_type": "code",
      "source": [
        "from pyspark.sql import SparkSession\n",
        "spark = SparkSession.builder \\\n",
        "    .master(\"local[*]\") \\\n",
        "    .appName(\"Learning_Spark\") \\\n",
        "    .getOrCreate()"
      ],
      "metadata": {
        "id": "qOo9iYya_X_t"
      },
      "execution_count": null,
      "outputs": []
    },
    {
      "cell_type": "code",
      "source": [
        "spark"
      ],
      "metadata": {
        "colab": {
          "base_uri": "https://localhost:8080/",
          "height": 222
        },
        "id": "c80x16d_BnwI",
        "outputId": "ccedbf1d-8e59-4b89-bc96-4b3e6bc979f7"
      },
      "execution_count": null,
      "outputs": [
        {
          "output_type": "execute_result",
          "data": {
            "text/plain": [
              "<pyspark.sql.session.SparkSession at 0x7f4d37c741d0>"
            ],
            "text/html": [
              "\n",
              "            <div>\n",
              "                <p><b>SparkSession - in-memory</b></p>\n",
              "                \n",
              "        <div>\n",
              "            <p><b>SparkContext</b></p>\n",
              "\n",
              "            <p><a href=\"http://0a90885c82b6:4040\">Spark UI</a></p>\n",
              "\n",
              "            <dl>\n",
              "              <dt>Version</dt>\n",
              "                <dd><code>v3.2.1</code></dd>\n",
              "              <dt>Master</dt>\n",
              "                <dd><code>local[*]</code></dd>\n",
              "              <dt>AppName</dt>\n",
              "                <dd><code>Learning_Spark</code></dd>\n",
              "            </dl>\n",
              "        </div>\n",
              "        \n",
              "            </div>\n",
              "        "
            ]
          },
          "metadata": {},
          "execution_count": 6
        }
      ]
    },
    {
      "cell_type": "code",
      "source": [
        "!ls"
      ],
      "metadata": {
        "colab": {
          "base_uri": "https://localhost:8080/"
        },
        "id": "HYQk8K1_CW7F",
        "outputId": "f7e63dc2-b018-4e86-f285-d86b57df21e2"
      },
      "execution_count": null,
      "outputs": [
        {
          "output_type": "stream",
          "name": "stdout",
          "text": [
            "sample_data  spark-3.2.1-bin-hadoop3.2\tspark-3.2.1-bin-hadoop3.2.tgz\n"
          ]
        }
      ]
    },
    {
      "cell_type": "markdown",
      "source": [
        "# Creating my first RDDs"
      ],
      "metadata": {
        "id": "DVqMudWkGGRk"
      }
    },
    {
      "cell_type": "code",
      "source": [
        "file_path=\"./sample_data/\"\n",
        "sc = spark.sparkContext\n",
        "textFile = sc.textFile(file_path+\"README.md\")\n",
        "textFile.count()"
      ],
      "metadata": {
        "colab": {
          "base_uri": "https://localhost:8080/"
        },
        "id": "kzxhuDlUg7oP",
        "outputId": "a3df7677-a761-4a36-98b9-f3c04bde463c"
      },
      "execution_count": null,
      "outputs": [
        {
          "output_type": "execute_result",
          "data": {
            "text/plain": [
              "19"
            ]
          },
          "metadata": {},
          "execution_count": 16
        }
      ]
    },
    {
      "cell_type": "markdown",
      "source": [
        "# WordCount"
      ],
      "metadata": {
        "id": "CYfsOaRcGToB"
      }
    },
    {
      "cell_type": "code",
      "source": [
        "wordCounts = textFile.flatMap(lambda line: line.split()).map(lambda word: (word, 1)).reduceByKey(lambda a, b: a+b)\n",
        "output=wordCounts.collect()\n",
        "for (word, count) in output:\n",
        "  print(\"%s: %i\" % (word, count))"
      ],
      "metadata": {
        "colab": {
          "base_uri": "https://localhost:8080/"
        },
        "id": "tiQf_D84Df1o",
        "outputId": "a66f7577-9429-4d23-da2f-bfc4a12964da"
      },
      "execution_count": null,
      "outputs": [
        {
          "output_type": "stream",
          "name": "stdout",
          "text": [
            "directory: 1\n",
            "datasets: 1\n",
            "*: 3\n",
            "`california_housing_data*.csv`: 1\n",
            "is: 4\n",
            "housing: 1\n",
            "1990: 1\n",
            "more: 1\n",
            "at:: 2\n",
            "https://developers.google.com/machine-learning/crash-course/california-housing-data-description: 1\n",
            "`mnist_*.csv`: 1\n",
            "of: 2\n",
            "[Anscombe's: 1\n",
            "was: 2\n",
            "originally: 1\n",
            "in: 2\n",
            "Anscombe,: 1\n",
            "F.: 1\n",
            "'Graphs: 1\n",
            "American: 1\n",
            "Statistician.: 1\n",
            "(1):: 1\n",
            "prepared: 1\n",
            "This: 1\n",
            "includes: 1\n",
            "a: 3\n",
            "few: 1\n",
            "sample: 2\n",
            "to: 1\n",
            "get: 1\n",
            "you: 1\n",
            "started.: 1\n",
            "California: 1\n",
            "data: 1\n",
            "from: 1\n",
            "the: 3\n",
            "US: 1\n",
            "Census;: 1\n",
            "information: 1\n",
            "available: 1\n",
            "small: 1\n",
            "[MNIST: 1\n",
            "database](https://en.wikipedia.org/wiki/MNIST_database),: 1\n",
            "which: 1\n",
            "described: 2\n",
            "http://yann.lecun.com/exdb/mnist/: 1\n",
            "`anscombe.json`: 1\n",
            "contains: 1\n",
            "copy: 2\n",
            "quartet](https://en.wikipedia.org/wiki/Anscombe%27s_quartet);: 1\n",
            "it: 1\n",
            "J.: 1\n",
            "(1973).: 1\n",
            "Statistical: 1\n",
            "Analysis'.: 1\n",
            "27: 1\n",
            "17-21.: 1\n",
            "JSTOR: 1\n",
            "2682899.: 1\n",
            "and: 1\n",
            "our: 1\n",
            "by: 1\n",
            "[vega_datasets: 1\n",
            "library](https://github.com/altair-viz/vega_datasets/blob/4f67bdaad10f45e3549984e17e1b3088c731503d/vega_datasets/_data/anscombe.json).: 1\n"
          ]
        }
      ]
    },
    {
      "cell_type": "markdown",
      "source": [
        "# Cloning Seminar_MUIA repo"
      ],
      "metadata": {
        "id": "OPAraWIzW0pB"
      }
    },
    {
      "cell_type": "code",
      "source": [
        " !git clone https://github.com/rosafilgueira/Seminar_MUIA.git"
      ],
      "metadata": {
        "colab": {
          "base_uri": "https://localhost:8080/"
        },
        "id": "u9p0PnwAXGy9",
        "outputId": "7edb9bb3-1458-4591-d9bd-d50f590f1f37"
      },
      "execution_count": 34,
      "outputs": [
        {
          "output_type": "stream",
          "name": "stdout",
          "text": [
            "Cloning into 'Seminar_MUIA'...\n",
            "remote: Enumerating objects: 319, done.\u001b[K\n",
            "remote: Counting objects: 100% (96/96), done.\u001b[K\n",
            "remote: Compressing objects: 100% (74/74), done.\u001b[K\n",
            "remote: Total 319 (delta 48), reused 60 (delta 22), pack-reused 223\u001b[K\n",
            "Receiving objects: 100% (319/319), 43.93 MiB | 25.97 MiB/s, done.\n",
            "Resolving deltas: 100% (147/147), done.\n"
          ]
        }
      ]
    },
    {
      "cell_type": "markdown",
      "source": [
        "# Flat Map vs Map\n",
        "\n",
        "What is the difference between Spark map() vs flatMap() is a most asked interview question, if you are taking an interview on Spark (Java/Scala/PySpark), so let’s understand the differences with examples? Regardless of an interview, you have to know the differences as this is also one of the most used Spark transformations.\n",
        "\n",
        "   - map() – Spark map() transformation applies a function to \n",
        "each row in a DataFrame/Dataset and returns the new transformed Dataset.\n",
        "  - flatMap() – Spark flatMap() transformation flattens the DataFrame/Dataset after applying the function on every element and returns a new transformed Dataset. The returned Dataset will return more rows than the current DataFrame.\n",
        "\n",
        "Let us consider a input file as a text file and it contains some sentence in it as shown below.\n",
        "\n",
        "Our task is to apply both map and flat map transformation one by one and observe the results produced to understand the working and gain knowledge on where to use Map and Flatmap.\n",
        "\n",
        "We do this by applying split() function on top Map() and FlatMap() in PySpark\n",
        "\n"
      ],
      "metadata": {
        "id": "9a1hlHlJHZlA"
      }
    },
    {
      "cell_type": "code",
      "source": [
        "path_file=\"/content/Seminar_MUIA/walkthrough_examples/inputfile.txt\""
      ],
      "metadata": {
        "id": "dMCstlOoXZG-"
      },
      "execution_count": 35,
      "outputs": []
    },
    {
      "cell_type": "code",
      "source": [
        "input_rdd = sc.textFile(path_file)\n",
        "input_rdd.count()"
      ],
      "metadata": {
        "colab": {
          "base_uri": "https://localhost:8080/"
        },
        "id": "8PiKuYSgBGVc",
        "outputId": "4fcd951e-577b-47fd-a043-e75bff193bfd"
      },
      "execution_count": 36,
      "outputs": [
        {
          "output_type": "execute_result",
          "data": {
            "text/plain": [
              "5"
            ]
          },
          "metadata": {},
          "execution_count": 36
        }
      ]
    },
    {
      "cell_type": "markdown",
      "source": [
        "## Map Operation"
      ],
      "metadata": {
        "id": "XMpCqXoNAFHQ"
      }
    },
    {
      "cell_type": "markdown",
      "source": [
        "Map is a type of Spark Transformation, which is used to perform operation on the record level. Spark Map operation applies logic to be performed, defined by the custom code of developers on each collections in RDD and provides the results for each row as a new collection of RDD. \n",
        "\n",
        "\n",
        "![image.png](data:image/png;base64,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)\n",
        "\n",
        "In simple words, Map transformation transforms the collection of RDD of given length say L into processed RDD of the same length L. Typically, the number of records or elements between input and output RDD will remains same. Now it time for some hands-on, let us apply map operation to the given input file with split function in it and check the count of input and output lines of records produced."
      ],
      "metadata": {
        "id": "FD_OmC9_BWdd"
      }
    },
    {
      "cell_type": "code",
      "source": [
        "map_rdd=input_rdd.map(lambda x: x.split(' '))\n",
        "map_rdd.collect()"
      ],
      "metadata": {
        "colab": {
          "base_uri": "https://localhost:8080/"
        },
        "id": "X_k9fBT_BbPx",
        "outputId": "ae25bc9d-c3ac-4acd-c9d8-5cc0478f2b8a"
      },
      "execution_count": null,
      "outputs": [
        {
          "output_type": "execute_result",
          "data": {
            "text/plain": [
              "[['this', 'part', 'is', 'for', 'beginners'],\n",
              " ['to', 'learn', 'spark', 'and', 'the', 'difference'],\n",
              " ['between', 'map', 'and', 'flatmap'],\n",
              " ['happy', 'learning'],\n",
              " ['Enjoy']]"
            ]
          },
          "metadata": {},
          "execution_count": 27
        }
      ]
    },
    {
      "cell_type": "code",
      "source": [
        "print(input_rdd.count())\n",
        "print(map_rdd.count())"
      ],
      "metadata": {
        "colab": {
          "base_uri": "https://localhost:8080/"
        },
        "id": "3fTcmEbsO_k0",
        "outputId": "398e8cfa-6b80-4fa6-dbcd-a9ccaa1329b2"
      },
      "execution_count": null,
      "outputs": [
        {
          "output_type": "stream",
          "name": "stdout",
          "text": [
            "5\n",
            "5\n"
          ]
        }
      ]
    },
    {
      "cell_type": "markdown",
      "source": [
        "From the output, it is evident that while using map function number of output records will exactly match the number of input records passed to process. We can check the number of records by using count() function as shown in the below diagram. We can observe both input and output have record count of 5."
      ],
      "metadata": {
        "id": "42P1fMcuPCat"
      }
    },
    {
      "cell_type": "markdown",
      "source": [
        "## flatMap\n",
        "\n",
        "FlatMap in Apache Spark is a transformation operation that results in zero or more elements to the each element present in the input RDD. It is similar to the Map function, it applies the user built logic to the each records in the RDD and returns the output records as new RDD. In flatmap(), if the input RDD with length say L is passed on to the user defined logic, then it produces the output RDD of different length say M.\n",
        "\n",
        "![image.png](https://1.bp.blogspot.com/-gCv_kZ-_nRQ/Xkfm0TSjcUI/AAAAAAAABJE/ImDHY8I1bgQOlU2Tc1zArSMyeBzVciLnACLcBGAsYHQ/s1600/flatmap.JPG)\n",
        "\n",
        "\n"
      ],
      "metadata": {
        "id": "k-Kz7QzXAIPy"
      }
    },
    {
      "cell_type": "code",
      "source": [
        "flatmap_rdd=input_rdd.flatMap(lambda x: x.split(' '))\n",
        "flatmap_rdd.collect()"
      ],
      "metadata": {
        "colab": {
          "base_uri": "https://localhost:8080/"
        },
        "id": "XSx1UmAFP9EN",
        "outputId": "69bca743-c75d-4952-d95f-130dfc6e05e0"
      },
      "execution_count": null,
      "outputs": [
        {
          "output_type": "execute_result",
          "data": {
            "text/plain": [
              "['this',\n",
              " 'part',\n",
              " 'is',\n",
              " 'for',\n",
              " 'beginners',\n",
              " 'to',\n",
              " 'learn',\n",
              " 'spark',\n",
              " 'and',\n",
              " 'the',\n",
              " 'difference',\n",
              " 'between',\n",
              " 'map',\n",
              " 'and',\n",
              " 'flatmap',\n",
              " 'happy',\n",
              " 'learning',\n",
              " 'Enjoy']"
            ]
          },
          "metadata": {},
          "execution_count": 29
        }
      ]
    },
    {
      "cell_type": "markdown",
      "source": [
        "We can observe that the number of input rows passed to flatmap is not equal to the number of output we got. By applying the count() function on top of flatmap_rdd, we can get the number of records in it. "
      ],
      "metadata": {
        "id": "GT6dWuRyPzha"
      }
    },
    {
      "cell_type": "code",
      "source": [
        "print(input_rdd.count())\n",
        "print(flatmap_rdd.count())"
      ],
      "metadata": {
        "colab": {
          "base_uri": "https://localhost:8080/"
        },
        "id": "vhyfCf3qQGgI",
        "outputId": "652a3266-5963-4d65-d219-aee01a3ca808"
      },
      "execution_count": null,
      "outputs": [
        {
          "output_type": "stream",
          "name": "stdout",
          "text": [
            "5\n",
            "18\n"
          ]
        }
      ]
    },
    {
      "cell_type": "markdown",
      "source": [
        "We can notice the input RDD has 5 records whereas output flatten RDD has 18 records. Flatmap() is usually used in getting the number of words."
      ],
      "metadata": {
        "id": "yzeKgrypQNTY"
      }
    },
    {
      "cell_type": "markdown",
      "source": [
        "As follows, we have another two (similar) flatMap examples"
      ],
      "metadata": {
        "id": "gglWfLxTQO35"
      }
    },
    {
      "cell_type": "code",
      "source": [
        "# Example 1\n",
        "d1 = [\"This is an sample application to see the FlatMap operation in PySpark\"] \n",
        "rdd1 = sc.parallelize(d1)\n",
        "rdd2 = rdd1.flatMap(lambda x: x.split(\" \"))\n",
        "rdd2.foreach(print)"
      ],
      "metadata": {
        "id": "PXcdEZJPQSck"
      },
      "execution_count": 37,
      "outputs": []
    },
    {
      "cell_type": "code",
      "source": [
        "#Example 2\n",
        "sc.parallelize([3,4,5]).flatMap(lambda x: range(1,x)).collect()"
      ],
      "metadata": {
        "colab": {
          "base_uri": "https://localhost:8080/"
        },
        "id": "j9OmFNSeQXGf",
        "outputId": "9517b4bb-6c58-4a64-8d80-7fd37746825b"
      },
      "execution_count": 38,
      "outputs": [
        {
          "output_type": "execute_result",
          "data": {
            "text/plain": [
              "[1, 2, 1, 2, 3, 1, 2, 3, 4]"
            ]
          },
          "metadata": {},
          "execution_count": 38
        }
      ]
    },
    {
      "cell_type": "code",
      "source": [
        "#Example 3 - Wordcount using flatMap vs Map\n",
        "path_file2=\"/content/Seminar_MUIA/walkthrough_examples/inputfile2.txt\"\n",
        "## Here we are going ot use flatMap as the second fuction, to split the words.\n",
        "input_rdd= sc.textFile(path_file2)\n",
        "input_rdd.collect()"
      ],
      "metadata": {
        "colab": {
          "base_uri": "https://localhost:8080/"
        },
        "id": "pBYRZpDWX_JW",
        "outputId": "45859b97-9ef6-4bf8-edf6-ea533b0d7df4"
      },
      "execution_count": 39,
      "outputs": [
        {
          "output_type": "execute_result",
          "data": {
            "text/plain": [
              "['this part is for beginners',\n",
              " 'this part is for beginners',\n",
              " 'to learn spark and the difference',\n",
              " 'to learn spark and the difference']"
            ]
          },
          "metadata": {},
          "execution_count": 39
        }
      ]
    },
    {
      "cell_type": "code",
      "source": [
        "# We have as many rdds as lines\n",
        "input_rdd.count()"
      ],
      "metadata": {
        "colab": {
          "base_uri": "https://localhost:8080/"
        },
        "id": "GZ-DIUvQYyLl",
        "outputId": "4914e3b7-85e9-4297-aeb3-f2ca0b49b5f6"
      },
      "execution_count": 40,
      "outputs": [
        {
          "output_type": "execute_result",
          "data": {
            "text/plain": [
              "4"
            ]
          },
          "metadata": {},
          "execution_count": 40
        }
      ]
    },
    {
      "cell_type": "code",
      "source": [
        "#flatMap  flattens the results, creating as many rdds as words. \n",
        "word_split = input_rdd.flatMap(lambda line: line.split())\n",
        "word_split.collect()\n",
        "\n",
        "#Later (after executing all the lines), you can go back to this point,\n",
        "# and change flatMap function to map (input_rdd.map ....), to see what you get. \n",
        "# And see how this change affects to the wordCount. "
      ],
      "metadata": {
        "colab": {
          "base_uri": "https://localhost:8080/"
        },
        "id": "YYS0f-gtY3Tt",
        "outputId": "440b7aec-dfee-431b-ad2a-0ebb81011069"
      },
      "execution_count": 54,
      "outputs": [
        {
          "output_type": "execute_result",
          "data": {
            "text/plain": [
              "['this',\n",
              " 'part',\n",
              " 'is',\n",
              " 'for',\n",
              " 'beginners',\n",
              " 'this',\n",
              " 'part',\n",
              " 'is',\n",
              " 'for',\n",
              " 'beginners',\n",
              " 'to',\n",
              " 'learn',\n",
              " 'spark',\n",
              " 'and',\n",
              " 'the',\n",
              " 'difference',\n",
              " 'to',\n",
              " 'learn',\n",
              " 'spark',\n",
              " 'and',\n",
              " 'the',\n",
              " 'difference']"
            ]
          },
          "metadata": {},
          "execution_count": 54
        }
      ]
    },
    {
      "cell_type": "code",
      "source": [
        "#Using flaMap we have 1 rdd per word \n",
        "word_split.count()"
      ],
      "metadata": {
        "colab": {
          "base_uri": "https://localhost:8080/"
        },
        "id": "Qu6HVXUqZBfZ",
        "outputId": "c703a753-27b7-436a-d8e0-f6ace3a948f5"
      },
      "execution_count": 47,
      "outputs": [
        {
          "output_type": "execute_result",
          "data": {
            "text/plain": [
              "22"
            ]
          },
          "metadata": {},
          "execution_count": 47
        }
      ]
    },
    {
      "cell_type": "code",
      "source": [
        "word_map=word_split.map(lambda word: (word, 1))\n",
        "word_map.collect()"
      ],
      "metadata": {
        "colab": {
          "base_uri": "https://localhost:8080/"
        },
        "id": "wlKM_inwZHWy",
        "outputId": "b3f874ed-9a05-4601-fee1-1125294d72b1"
      },
      "execution_count": 49,
      "outputs": [
        {
          "output_type": "execute_result",
          "data": {
            "text/plain": [
              "[('this', 1),\n",
              " ('part', 1),\n",
              " ('is', 1),\n",
              " ('for', 1),\n",
              " ('beginners', 1),\n",
              " ('this', 1),\n",
              " ('part', 1),\n",
              " ('is', 1),\n",
              " ('for', 1),\n",
              " ('beginners', 1),\n",
              " ('to', 1),\n",
              " ('learn', 1),\n",
              " ('spark', 1),\n",
              " ('and', 1),\n",
              " ('the', 1),\n",
              " ('difference', 1),\n",
              " ('to', 1),\n",
              " ('learn', 1),\n",
              " ('spark', 1),\n",
              " ('and', 1),\n",
              " ('the', 1),\n",
              " ('difference', 1)]"
            ]
          },
          "metadata": {},
          "execution_count": 49
        }
      ]
    },
    {
      "cell_type": "code",
      "source": [
        "word_map.count()"
      ],
      "metadata": {
        "colab": {
          "base_uri": "https://localhost:8080/"
        },
        "id": "2KKxBk_CZLhx",
        "outputId": "b27c0ab8-ac60-4a84-8ff4-be4313908002"
      },
      "execution_count": 50,
      "outputs": [
        {
          "output_type": "execute_result",
          "data": {
            "text/plain": [
              "22"
            ]
          },
          "metadata": {},
          "execution_count": 50
        }
      ]
    },
    {
      "cell_type": "code",
      "source": [
        "word_reduce=word_map.reduceByKey(lambda a, b: a+b)\n",
        "word_reduce.collect()\n"
      ],
      "metadata": {
        "colab": {
          "base_uri": "https://localhost:8080/"
        },
        "id": "-b3sGBWtZRZu",
        "outputId": "a4b61d2f-a496-42bc-cb50-d1336e21dc76"
      },
      "execution_count": 51,
      "outputs": [
        {
          "output_type": "execute_result",
          "data": {
            "text/plain": [
              "[('this', 2),\n",
              " ('is', 2),\n",
              " ('part', 2),\n",
              " ('for', 2),\n",
              " ('beginners', 2),\n",
              " ('to', 2),\n",
              " ('learn', 2),\n",
              " ('spark', 2),\n",
              " ('and', 2),\n",
              " ('the', 2),\n",
              " ('difference', 2)]"
            ]
          },
          "metadata": {},
          "execution_count": 51
        }
      ]
    },
    {
      "cell_type": "code",
      "source": [
        "word_reduce.count()"
      ],
      "metadata": {
        "colab": {
          "base_uri": "https://localhost:8080/"
        },
        "id": "wK62mKdvZVbb",
        "outputId": "2f682a91-7ae9-4139-dd19-b1870c74bd44"
      },
      "execution_count": 53,
      "outputs": [
        {
          "output_type": "execute_result",
          "data": {
            "text/plain": [
              "11"
            ]
          },
          "metadata": {},
          "execution_count": 53
        }
      ]
    },
    {
      "cell_type": "markdown",
      "source": [
        "Now, go back to #Exercise 3, and execute all the lines, until the flatMap, and change it to map instead. \n",
        "\n",
        "Execute the rest of the lines. You should get an error in the last line, if you use two maps in the wordCount. "
      ],
      "metadata": {
        "id": "HTXt8vgvZuO-"
      }
    }
  ]
}